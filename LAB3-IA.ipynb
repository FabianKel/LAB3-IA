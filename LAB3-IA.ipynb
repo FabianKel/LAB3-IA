{
 "cells": [
  {
   "cell_type": "markdown",
   "metadata": {},
   "source": [
    "# Laboratorio 3"
   ]
  },
  {
   "cell_type": "markdown",
   "metadata": {},
   "source": [
    "-  [Mónica Salvatierra - 22249](https://github.com/alee2602)\n",
    "- [Paula Barillas - 22764](https://github.com/paulabaal12)\n",
    "- [Derek Arreaga - 22537](https://github.com/FabianKel)"
   ]
  },
  {
   "cell_type": "markdown",
   "metadata": {},
   "source": [
    "#####  LINK DE REPOSITORIO\n",
    "https://github.com/FabianKel/LAB3-IA"
   ]
  },
  {
   "cell_type": "markdown",
   "metadata": {},
   "source": [
    "## Task 1 - Preguntas Teóricas"
   ]
  },
  {
   "cell_type": "markdown",
   "metadata": {},
   "source": [
    "1. Explique la diferencia entre descenso de gradiente, descenso de gradiente por mini batches y descenso de\n",
    "gradiente estocástico. Asegúrese de mencionar las ventajas y desventajas de cada enfoque.\n",
    "\n",
    "| Método                        | Descripción                                                                 | Ventajas                                                                 | Desventajas                                                                 |\n",
    "|-------------------------------|---------------------------------------------------------------------------|--------------------------------------------------------------------------|---------------------------------------------------------------------------|\n",
    "| Descenso de Gradiente         | Minimiza el error de predicción de un modelo donde va recorriendo con la diferencia entre el resultado obtenido y el que se busca obtener | Convergencia precisa y estable.                                           | Puede ser lento para grandes conjuntos de datos.                           |\n",
    "| Descenso de Gradiente Estocástico | Actualiza los parámetros usando un solo ejemplo en cada iteración. Donde seleciona na observación aleatoria para minimizar la función de pérdida         | Rápido y puede escapar de mínimos locales.                                | Es menos precisa.                                      |\n",
    "| Descenso de Gradiente por Mini Batches | Actualiza los parámetros usando un pequeño subconjunto de datos en cada iteración. | Balance entre velocidad y precisión, y aprovecha la paralelización.       | Selección del tamaño del mini batch puede ser complicada.                  |"
   ]
  },
  {
   "cell_type": "markdown",
   "metadata": {},
   "source": [
    "2. Compare y contraste técnicas de extracción de features (feature extraction) y selección de features (feature\n",
    "selection) en machine learning. De ejemplos de escenarios donde cada técnica sería más apropiada."
   ]
  },
  {
   "cell_type": "markdown",
   "metadata": {},
   "source": [
    "### Feature Extraction\n",
    "Se transforman las features originales en nuevas features, disminuyendo la dimensión pero siempre manteniendo información relevante.\n",
    "##### Técnicas:\n",
    "* PCA (Principle Componemts Analysis):\n",
    "    * Encuentra combinaciones lineales ortogonales de las features originales que maximizan la varianza.\n",
    "* ICA (Independent Component Analysis):\n",
    "    * Separa señales en componentes estadísticamente independientes, es útil cuando las fuentes son no gaussianas\n",
    "    \n",
    "##### Ventajas:\n",
    "* El dataset es menos complejo\n",
    "* Requiere menos espacio y menos tiempo de computación\n",
    "* Hay menos chances de causar ```overfitting``` en el modelo\n",
    "\n",
    "\n",
    "### Feature Selection\n",
    "Como dice el nombre, se trata de seleccionar un subconjunto de las características originales basado en su relevancia para el modelo.\n",
    "##### Técnicas:\n",
    "* Filtrado:\n",
    "    * Se seleccionan features con alta correlación con la variable objetivo.\n",
    "* Wrapper:\n",
    "    * Se entrenan modelos añadiendo features una por una hasta optimizar las métricas.\n",
    "* Embedded:\n",
    "\n",
    "##### Ventajas:\n",
    "* Se mantienen las features originales.\n",
    "* Tiene más eficiencia Computacional\n",
    "* Se reduce el ```overfitting```"
   ]
  },
  {
   "cell_type": "markdown",
   "metadata": {},
   "source": [
    "3. Describa la arquitectura y el funcionamiento de un perceptrón de una sola capa (un tipo de red neuronal sin\n",
    "backpropagation). Explique cómo aprende y la forma en la que actualiza sus parámetros."
   ]
  },
  {
   "cell_type": "markdown",
   "metadata": {},
   "source": [
    "#### Arquitectura y Funcionamiento de un Perceptrón de una sola capa\n",
    "\n",
    "Es el modelo más básico de una red neuronal artificial, propuesto por Frank Rosenblatt en 1957 y es la base de modelos más complejos como las redes neuronales multicapa.\n",
    "\n",
    "##### Arquitectura\n",
    "1. Capa de Entrada:\n",
    "    * Recibe los valores de las features del dato de entrada.\n",
    "2. Pesos y Sesgo (Bias):\n",
    "    * Cada característica tiene un peso, el cuál se ajusta a su importancia en la predicción.\n",
    "    * Hay un sesgo que actúa como un umbral de activación\n",
    "\n",
    "##### Funcionamiento\n",
    "1. Entrada:\n",
    "    * Se alimentan las características:\n",
    "     $$ x = [x_{1}, x_{2}, ..., x_n] $$\n",
    "    * Suma Ponderada\n",
    "    $$ z = \\sum_{i=1}^{n} w_i x_i + b $$\n",
    "    * Aplicar la función escalón:\n",
    "    $$ y = f(z) = \\begin{cases} 1 & \\text{si } z \\geq 0, \\\\ 0 & \\text{en otro caso} \\end{cases} $$ \n",
    "    * ```y``` es la predicción final\n",
    "\n",
    "##### Aprendizaje\n",
    "El perceptrón ajusta sus pesos y sesgo para minimizar los errores de clasificación mediante un enfoque supervisado.\n",
    "1. Inicialización:\n",
    "    * Los pesos y el sesgo se inicializan aleatoriamente\n",
    "2. Actualización de Parámetros:\n",
    "    * Para cada muestra (x, y) en el dataset:\n",
    "        * Calcula la predicción y\n",
    "        * Si la predicción final no es correcta,  se actualizan los pesos y el sesgo de la siguiente manera:\n",
    "        $$ w_i <- w_i + η * (y_{true} - y) * x_i $$\n",
    "        $$ b <- b + η * (y_{true} - y) $$\n",
    "        *  donde ```w``` es el peso, ```b``` es el sesgo y ```η``` es el learning rate.\n",
    "3. Convergencia:\n",
    "    * Repite el proceso hasta que no haya errores o se alcance el límite de iteraciones.\n",
    " \n"
   ]
  },
  {
   "cell_type": "markdown",
   "metadata": {},
   "source": [
    "## Task 2 - Ejercicios Prácticos"
   ]
  },
  {
   "cell_type": "markdown",
   "metadata": {},
   "source": [
    "### Task 2.1 - Gradiente Descendiente Estocástico"
   ]
  },
  {
   "cell_type": "markdown",
   "metadata": {},
   "source": [
    "Implemente el descenso de gradiente estocástico, el descenso de gradiente y el descenso de gradiente por mini\n",
    "batches para una función polinómica de grado 3. Luego, grafique la función aproximada por cada uno de los métodos\n",
    "solicitados y la distribución real de puntos. Para esto considere que:\n",
    "* El polinomio que debe usar es 2 * x^3 - 3 * x^2 + 5 * x + 3\n",
    "* Considere el uso de ```np.polyval```\n",
    "* Considere el uso de ```np.polyder```\n",
    "* Compare el tiempo de ejecución de cada uno de los métodos solicitados. De esto, mencione cuál método\n",
    "fue más rápido y por qué.\n",
    "* Compare el fitness de cada método solicitado (recuerde hacer una evaluación numérica y no sólo visual). De\n",
    "esto mencione cuál método lo hizo mejor y por qué"
   ]
  },
  {
   "cell_type": "markdown",
   "metadata": {},
   "source": [
    "### **Importar las librerías a utilizar** "
   ]
  },
  {
   "cell_type": "code",
   "execution_count": 905,
   "metadata": {},
   "outputs": [],
   "source": [
    "import numpy as np\n",
    "import matplotlib.pyplot as plt\n",
    "import time\n",
    "\n",
    "%matplotlib inline\n"
   ]
  },
  {
   "cell_type": "markdown",
   "metadata": {},
   "source": [
    "### **Generar datos**"
   ]
  },
  {
   "cell_type": "code",
   "execution_count": 906,
   "metadata": {},
   "outputs": [],
   "source": [
    "np.random.seed(1326)\n",
    "x = np.linspace(-2, 4, 100)\n",
    "y_real = 2*x**3 - 3*x**2 + 5*x + 3\n",
    "y = y_real + np.random.normal(0, 5, 100)"
   ]
  },
  {
   "cell_type": "markdown",
   "metadata": {},
   "source": [
    "### **Evaluar polinomio y obtener derivada**"
   ]
  },
  {
   "cell_type": "code",
   "execution_count": 907,
   "metadata": {},
   "outputs": [],
   "source": [
    "polynomial = np.poly1d([2, -3, 5, 3])  # 2x³ - 3x² + 5x + 3\n",
    "derivative = np.polyder(polynomial)  "
   ]
  },
  {
   "cell_type": "markdown",
   "metadata": {},
   "source": [
    "### **Calcular el error mediante MSE**"
   ]
  },
  {
   "cell_type": "code",
   "execution_count": 908,
   "metadata": {},
   "outputs": [],
   "source": [
    "\n",
    "def get_loss(y_real, y_pred):\n",
    "    return np.mean((y_real - y_pred)**2)"
   ]
  },
  {
   "cell_type": "markdown",
   "metadata": {},
   "source": [
    "### **Gradiente Descendiente**"
   ]
  },
  {
   "cell_type": "code",
   "execution_count": 909,
   "metadata": {},
   "outputs": [],
   "source": [
    "def gd(x, y, learning_rate=0.00005, iterations=1000):\n",
    "    coefficients = np.random.randn(4)\n",
    "    errors = []\n",
    "    start_time = time.time()\n",
    "    \n",
    "    for _ in range(iterations):\n",
    "        y_pred = np.polyval(coefficients, x)\n",
    "        grad = np.mean([(y_pred[i] - y[i]) * np.polyval(derivative, x[i]) for i in range(len(x))], axis=0)\n",
    "        coefficients -= learning_rate * grad\n",
    "        errors.append(get_loss(y, y_pred))\n",
    "    \n",
    "    return coefficients, errors, time.time() - start_time"
   ]
  },
  {
   "cell_type": "markdown",
   "metadata": {},
   "source": [
    "### **Descenso de Gradiente Estocástico**"
   ]
  },
  {
   "cell_type": "code",
   "execution_count": 910,
   "metadata": {},
   "outputs": [],
   "source": [
    "# Gradiente Descendente Estocástico (SGD)\n",
    "def sgd(x, y, learning_rate=0.00005, iterations=1000):\n",
    "    coefficients = np.random.randn(4)\n",
    "    errors = []\n",
    "    start_time = time.time()\n",
    "    \n",
    "    for _ in range(iterations):\n",
    "        idx = np.random.randint(len(x))  # Seleccionar un punto aleatorio\n",
    "        x_i, y_i = x[idx], y[idx]\n",
    "        y_pred = np.polyval(coefficients, x_i)\n",
    "        grad = (y_pred - y_i) * np.polyval(derivative, x_i)\n",
    "        coefficients -= learning_rate * grad\n",
    "        errors.append(get_loss(y, np.polyval(coefficients, x)))\n",
    "    \n",
    "    return coefficients, errors, time.time() - start_time"
   ]
  },
  {
   "cell_type": "markdown",
   "metadata": {},
   "source": [
    "### **Mini-Batch Gradiente Descendente**"
   ]
  },
  {
   "cell_type": "code",
   "execution_count": 911,
   "metadata": {},
   "outputs": [],
   "source": [
    "# Mini-Batch GD\n",
    "def mini_batch_gd(x, y, batch_size=20, learning_rate=0.00005, iterations=1000):\n",
    "    coefficients = np.random.randn(4)\n",
    "    errors = []\n",
    "    start_time = time.time()\n",
    "    \n",
    "    for _ in range(iterations):\n",
    "        indices = np.random.choice(len(x), batch_size, replace=False)\n",
    "        x_batch, y_batch = x[indices], y[indices]\n",
    "        y_pred = np.polyval(coefficients, x_batch)\n",
    "        grad = np.mean([(y_pred[i] - y_batch[i]) * np.polyval(derivative, x_batch[i]) for i in range(len(x_batch))], axis=0)\n",
    "        coefficients -= learning_rate * grad\n",
    "        errors.append(get_loss(y, np.polyval(coefficients, x)))\n",
    "    \n",
    "    return coefficients, errors, time.time() - start_time\n"
   ]
  },
  {
   "cell_type": "markdown",
   "metadata": {},
   "source": [
    "### **Ejecución de métodos**"
   ]
  },
  {
   "cell_type": "code",
   "execution_count": 912,
   "metadata": {},
   "outputs": [],
   "source": [
    "coefficients_gd, errors_gd, time_gd = gd(x, y)\n",
    "coefficients_sgd, errors_sgd, time_sgd = sgd(x, y)\n",
    "coefficients_mb, errors_mb, time_mb = mini_batch_gd(x, y)"
   ]
  },
  {
   "cell_type": "markdown",
   "metadata": {},
   "source": [
    "### **Graficar resultados**"
   ]
  },
  {
   "cell_type": "code",
   "execution_count": 913,
   "metadata": {},
   "outputs": [
    {
     "data": {
      "image/png": "[encoded data removed]",
      "text/plain": [
       "<Figure size 864x576 with 2 Axes>"
      ]
     },
     "metadata": {
      "needs_background": "light"
     },
     "output_type": "display_data"
    }
   ],
   "source": [
    "# Graficar resultados\n",
    "plt.figure(figsize=(12, 8))\n",
    "\n",
    "# Gráfica de ajuste\n",
    "plt.subplot(2, 1, 1)\n",
    "plt.scatter(x, y, color='gray', alpha=0.5, label='Datos')\n",
    "x_plot = np.linspace(min(x), max(x), 200)\n",
    "plt.plot(x_plot, np.polyval(coefficients_gd, x_plot), 'r-', label='GD')\n",
    "plt.plot(x_plot, np.polyval(coefficients_sgd, x_plot), 'g-', label='SGD')\n",
    "plt.plot(x_plot, np.polyval(coefficients_mb, x_plot), 'b-', label='Mini-batch')\n",
    "plt.legend()\n",
    "plt.title('Ajuste del polinomio')\n",
    "\n",
    "# Gráfica de errores\n",
    "plt.subplot(2, 1, 2)\n",
    "plt.plot(errors_gd, 'r-', label='GD')\n",
    "plt.plot(errors_sgd, 'g-', label='SGD')\n",
    "plt.plot(errors_mb, 'b-', label='Mini-batch')\n",
    "plt.xlabel('Iteraciones')\n",
    "plt.ylabel('Error (MSE)')\n",
    "plt.legend()\n",
    "plt.title('Evolución del error')\n",
    "\n",
    "plt.tight_layout()\n",
    "plt.show()"
   ]
  },
  {
   "cell_type": "markdown",
   "metadata": {},
   "source": [
    "### **Mostrar resultados**"
   ]
  },
  {
   "cell_type": "code",
   "execution_count": 914,
   "metadata": {},
   "outputs": [
    {
     "name": "stdout",
     "output_type": "stream",
     "text": [
      "Tiempos de ejecución:\n",
      "Gradiente Descendente: 1.6013 segundos\n",
      "SGD: 0.0710 segundos\n",
      "Mini-batch GD: 0.4160 segundos\n",
      "\n",
      "Error final (MSE):\n",
      "Gradiente Descendente: 74.2915\n",
      "SGD: 72.7207\n",
      "Mini-batch GD: 100.8240\n"
     ]
    }
   ],
   "source": [
    "print(\"Tiempos de ejecución:\")\n",
    "print(f\"Gradiente Descendente: {time_gd:.4f} segundos\")\n",
    "print(f\"SGD: {time_sgd:.4f} segundos\")\n",
    "print(f\"Mini-batch GD: {time_mb:.4f} segundos\")\n",
    "\n",
    "print(\"\\nError final (MSE):\")\n",
    "print(f\"Gradiente Descendente: {errors_gd[-1]:.4f}\")\n",
    "print(f\"SGD: {errors_sgd[-1]:.4f}\")\n",
    "print(f\"Mini-batch GD: {errors_mb[-1]:.4f}\")"
   ]
  },
  {
   "cell_type": "markdown",
   "metadata": {},
   "source": [
    "### **Comparación del tiempo de ejecución**"
   ]
  },
  {
   "cell_type": "markdown",
   "metadata": {},
   "source": [
    "Como era de esperarse, SGD fue el más rápido, seguido por Mini-Batch GD y finalmente el Gradiente Descendente. Esto se debe a la cantidad de datos y la manera en la que los procesa en cada iteración:\n",
    "\n",
    "- GD (Gradiente Descendente): Actualiza los coeficientes usando todo el conjunto de datos en cada iteración, lo que es computacionalmente más costoso.\n",
    "- SGD (Gradiente Descendente Estocástico): Toma solo un punto aleatorio en cada iteración, lo que reduce el tiempo de ejecución.\n",
    "- Mini-Batch GD: Se encuentra entre ambos métodos, ya que usa pequeños batches o conjunto de datos, lo que lo hace más eficiente que GD pero más costoso que SGD."
   ]
  },
  {
   "cell_type": "markdown",
   "metadata": {},
   "source": [
    "### **Comparación del Fitness**"
   ]
  },
  {
   "cell_type": "markdown",
   "metadata": {},
   "source": [
    "El método con el menor error final (MSE) fue el SGD, lo que indica que produjo el mejor ajuste a los datos en términos de error medio cuadrático. Sin embargo, la diferencia entre GD y SGD no es significativa, lo que indica que ambos métodos convergieron a soluciones bastante similares. Por otro lado, el Mini-Batch GD tuvo el peor desempeño en términos de error, lo que sugiere que el tamaño del batch o el learning rate podrían no ser óptimos para el modelo."
   ]
  },
  {
   "cell_type": "markdown",
   "metadata": {},
   "source": [
    "### Task 2.2 - Feature Selection"
   ]
  },
  {
   "cell_type": "markdown",
   "metadata": {},
   "source": [
    "Tome de nuevo el dataset del laboratorio pasado referente a la clasificación de Partidas de League of Legends.\n",
    "\n",
    "Sobre este aplique al menos 3 técnicas de feature selection distintas, y con el dataset resultante vuelva a ajustar el modelo de Support Vector Machine (de la librería Sklearn).\n",
    "\n",
    "Recuerde que:\n",
    "* Debe definir una métrica de desempeño y justificar el por qué de esta métrica\n",
    "* Mida el performance de su modelo con las tres técnicas de feature selection y compare cada una de ellas. Es decir, debe tener al menos 4 valores a comparar (el obtenido en el laboratorio pasado, y al menos 3 de las técnicas de feature selection)\n",
    "* De las medidas obtenidas, diga qué versión lo hizo mejor y por qué.\n",
    "* Recuerde que para hacer parameter tuning, deben usar las mismas columnas seleccionadas después del\n",
    "feature selection\n",
    "* Recuerde que su variable objetivo es “blueWins”"
   ]
  },
  {
   "cell_type": "markdown",
   "metadata": {},
   "source": [
    "### Task 2.3 - Perceptrón"
   ]
  },
  {
   "cell_type": "markdown",
   "metadata": {},
   "source": [
    "Implemente un perceptrón de una sola capa para realizar una clasificación binaria del dataset de Iris(incluido en ```sklearn.datasets.load_iris```). Visualice la frontera de decisión que fue aprendida por el perceptrón.\n",
    "Recuerde que:\n",
    "* Debe cargar el dataset de Iris desde la librería mencionada\n",
    "* Use solamente dos features, siendo estos sepal length y sepal width\n",
    "* Asegúrese de que su clase Perceptron tenga los métodos de fit y predict\n",
    "* Visualice la frontera de decisión\n",
    "    * El eje Y debería ser sepal width y el eje X debería ser sepal length\n",
    "* Debe definir una métrica de desempeño y justificar el por qué de esta métrica. Con dicha métrica, evalúe el rendimiento de su modelo. Es decir, diga si lo hizo bien o no y el por qué."
   ]
  },
  {
   "cell_type": "markdown",
   "metadata": {},
   "source": [
    "### **Importación dataset y librerías**"
   ]
  },
  {
   "cell_type": "code",
   "execution_count": 915,
   "metadata": {},
   "outputs": [],
   "source": [
    "from sklearn.datasets import load_iris\n",
    "from sklearn.preprocessing import StandardScaler\n",
    "from sklearn.model_selection import train_test_split\n",
    "from sklearn.metrics import accuracy_score, classification_report"
   ]
  },
  {
   "cell_type": "markdown",
   "metadata": {},
   "source": [
    "### **Carga y prueba de datos**"
   ]
  },
  {
   "cell_type": "code",
   "execution_count": 922,
   "metadata": {},
   "outputs": [
    {
     "data": {
      "image/png": "[encoded data removed]",
      "text/plain": [
       "<Figure size 576x432 with 1 Axes>"
      ]
     },
     "metadata": {
      "needs_background": "light"
     },
     "output_type": "display_data"
    }
   ],
   "source": [
    "# Dataset Iris\n",
    "iris = load_iris()\n",
    "\n",
    "# sepal length y sepal width\n",
    "X = iris.data[:, [0, 1]]\n",
    "\n",
    "# Filtrar Versicolor (1) y Virginica (2)\n",
    "mask = (iris.target == 1) | (iris.target == 2)\n",
    "X = X[mask]\n",
    "y = iris.target[mask]\n",
    "\n",
    "# Convertir las etiquetas a binario: Versicolor (0) y Virginica (1)\n",
    "y = (y == 2).astype(int)\n",
    "\n",
    "# Visualización\n",
    "plt.figure(figsize=(8, 6))\n",
    "plt.scatter(X[y == 0, 0], X[y == 0, 1], color='#24d149', label='Versicolor')\n",
    "plt.scatter(X[y == 1, 0], X[y == 1, 1], color='#0fe5c4', label='Virginica')\n",
    "plt.xlabel('Sepal Length')\n",
    "plt.ylabel('Sepal Width')\n",
    "plt.title('Distribución de Versicolor vs. Virginica')\n",
    "plt.legend()\n",
    "plt.show()"
   ]
  },
  {
   "cell_type": "markdown",
   "metadata": {},
   "source": [
    "### **Escalamiento de datos**"
   ]
  },
  {
   "cell_type": "code",
   "execution_count": 924,
   "metadata": {},
   "outputs": [
    {
     "data": {
      "image/png": "[encoded data removed]",
      "text/plain": [
       "<Figure size 576x432 with 1 Axes>"
      ]
     },
     "metadata": {
      "needs_background": "light"
     },
     "output_type": "display_data"
    }
   ],
   "source": [
    "# Escalar los features\n",
    "scaler = StandardScaler()\n",
    "X_scaled = scaler.fit_transform(X)\n",
    "\n",
    "# Visualizar los datos escalados\n",
    "plt.figure(figsize=(8, 6))\n",
    "plt.scatter(X_scaled[y == 0, 0], X_scaled[y == 0, 1], color='#24d149', label='Versicolor')\n",
    "plt.scatter(X_scaled[y == 1, 0], X_scaled[y == 1, 1], color='#0fe5c4', label='Virginica')\n",
    "plt.xlabel('Sepal Length (scaled)')\n",
    "plt.ylabel('Sepal Width (scaled)')\n",
    "plt.title('Iris Dataset (después de escalar)')\n",
    "plt.legend()\n",
    "plt.show()"
   ]
  },
  {
   "cell_type": "code",
   "execution_count": 925,
   "metadata": {},
   "outputs": [],
   "source": [
    "class Perceptron:\n",
    "    def __init__(self, learning_rate=0.01, n_iterations=100):\n",
    "        self.learning_rate = learning_rate\n",
    "        self.n_iterations = n_iterations\n",
    "        self.weights = None\n",
    "        self.bias = None\n",
    "        \n",
    "    def fit(self, X, y):\n",
    "        n_samples, n_features = X.shape\n",
    "        self.weights = np.zeros(n_features)\n",
    "        self.bias = 0\n",
    "        \n",
    "        # Entrenamiento\n",
    "        for _ in range(self.n_iterations):\n",
    "            for idx, x_i in enumerate(X):\n",
    "                linear_output = np.dot(x_i, self.weights) + self.bias\n",
    "                y_predicted = 1 if linear_output >= 0 else 0\n",
    "                \n",
    "                # Actualizar \n",
    "                update = self.learning_rate * (y[idx] - y_predicted)\n",
    "                self.weights += update * x_i\n",
    "                self.bias += update\n",
    "    \n",
    "    def predict(self, X):\n",
    "        linear_output = np.dot(X, self.weights) + self.bias\n",
    "        return np.where(linear_output >= 0, 1, 0)"
   ]
  },
  {
   "cell_type": "markdown",
   "metadata": {},
   "source": [
    "### **División de datos**"
   ]
  },
  {
   "cell_type": "code",
   "execution_count": 926,
   "metadata": {},
   "outputs": [
    {
     "name": "stdout",
     "output_type": "stream",
     "text": [
      "Forma del conjunto de entrenamiento: (80, 2)\n",
      "Forma del conjunto de prueba: (20, 2)\n"
     ]
    }
   ],
   "source": [
    "# Dividir los datos\n",
    "X_train, X_test, y_train, y_test = train_test_split(\n",
    "    X_scaled, \n",
    "    y, \n",
    "    test_size=0.2, \n",
    "    random_state=42\n",
    ")\n",
    "\n",
    "print(\"Forma del conjunto de entrenamiento:\", X_train.shape)\n",
    "print(\"Forma del conjunto de prueba:\", X_test.shape)"
   ]
  },
  {
   "cell_type": "markdown",
   "metadata": {},
   "source": [
    "### **Perceptrón | Métrica de desempeño**"
   ]
  },
  {
   "cell_type": "code",
   "execution_count": 927,
   "metadata": {},
   "outputs": [
    {
     "name": "stdout",
     "output_type": "stream",
     "text": [
      "Accuracy: 0.70\n",
      "\n",
      "Reporte de Clasificación:\n",
      "              precision    recall  f1-score   support\n",
      "\n",
      "           0       1.00      0.50      0.67        12\n",
      "           1       0.57      1.00      0.73         8\n",
      "\n",
      "    accuracy                           0.70        20\n",
      "   macro avg       0.79      0.75      0.70        20\n",
      "weighted avg       0.83      0.70      0.69        20\n",
      "\n"
     ]
    }
   ],
   "source": [
    "# Crear y entrenar el perceptrón\n",
    "perceptron = Perceptron(learning_rate=0.01, n_iterations=100)\n",
    "perceptron.fit(X_train, y_train)\n",
    "\n",
    "# Hacer predicciones\n",
    "y_pred = perceptron.predict(X_test)\n",
    "\n",
    "# Calcular accuracy\n",
    "accuracy = accuracy_score(y_test, y_pred)\n",
    "print(f\"Accuracy: {accuracy:.2f}\")\n",
    "print(\"\\nReporte de Clasificación:\")\n",
    "print(classification_report(y_test, y_pred))"
   ]
  },
  {
   "cell_type": "markdown",
   "metadata": {},
   "source": [
    "El uso de **accuracy** como métrica de desempeño es apropiado en este caso porque estamos realizando una clasificación binaria y las clases Versicolor y Virginica tienen un número similar de muestras en el dataset original (las clases se encuentran balanceadas), lo que ayuda a evitar sesgos en la evaluación. El accuracy obtenido fue de 0.70 (70%), lo que indica que el perceptrón clasificó correctamente el 70% de los datos de prueba. Esto nos da un indicio que se puede mejorar el modelo, de manera que pueda realizar predicciones más precisas para la clasificación de las observaciones en las diferentes clases."
   ]
  },
  {
   "cell_type": "code",
   "execution_count": 929,
   "metadata": {},
   "outputs": [
    {
     "data": {
      "image/png": "[encoded data removed]",
      "text/plain": [
       "<Figure size 576x432 with 1 Axes>"
      ]
     },
     "metadata": {
      "needs_background": "light"
     },
     "output_type": "display_data"
    }
   ],
   "source": [
    "# Crear una malla para visualizar la frontera de decisión\n",
    "x_min, x_max = X_scaled[:, 0].min() - 1, X_scaled[:, 0].max() + 1\n",
    "y_min, y_max = X_scaled[:, 1].min() - 1, X_scaled[:, 1].max() + 1\n",
    "xx, yy = np.meshgrid(np.arange(x_min, x_max, 0.02),\n",
    "                    np.arange(y_min, y_max, 0.02))\n",
    "\n",
    "# Predicciones en la malla\n",
    "Z = perceptron.predict(np.c_[xx.ravel(), yy.ravel()])\n",
    "Z = Z.reshape(xx.shape)\n",
    "\n",
    "# Grafica\n",
    "plt.figure(figsize=(8, 6))\n",
    "plt.contourf(xx, yy, Z, alpha=0.4)\n",
    "plt.scatter(X_scaled[y == 0, 0], X_scaled[y == 0, 1], color='#8a0b9e', label='Versicolor')\n",
    "plt.scatter(X_scaled[y == 1, 0], X_scaled[y == 1, 1], color='#50bb00', label='Virginica')\n",
    "plt.xlabel('Sepal Length (scaled)')\n",
    "plt.ylabel('Sepal Width (scaled)')\n",
    "plt.title('Frontera de Decisión del Perceptrón')\n",
    "plt.legend()\n",
    "plt.show()"
   ]
  },
  {
   "cell_type": "markdown",
   "metadata": {},
   "source": [
    "El desempeño del modelo se debe a que Versicolor y Virginica no son clases completamente separables con un modelo lineal utilizando únicamente sepal length y sepal width. Esto se evidencia en que hay observaciones de un grupo que se encuentran dentro del área del otro grupo de especies."
   ]
  },
  {
   "cell_type": "markdown",
   "metadata": {},
   "source": [
    "## Referencias \n",
    "\n",
    "Mini-batch Gradient Descent. (s/f). Interactivechaos.com. https://interactivechaos.com/es/manual/tutorial-de-deep-learning/mini-batch-gradient-descent\n",
    "\n",
    "Qué es Descenso de gradiente estocástico (SGD) Concepto y definición. Glosario. (s/f). GAMCO, SL. Recuperado el 9 de febrero de 2025, de https://gamco.es/glosario/descenso-de-gradiente-estocastico-sgd/\n",
    "\n",
    "¿Qué es el descenso del gradiente? (2024, abril 25). Ibm.com. https://www.ibm.com/mx-es/topics/gradient-descent"
   ]
  }
 ],
 "metadata": {
  "kernelspec": {
   "display_name": "Python 3",
   "language": "python",
   "name": "python3"
  },
  "language_info": {
   "codemirror_mode": {
    "name": "ipython",
    "version": 3
   },
   "file_extension": ".py",
   "mimetype": "text/x-python",
   "name": "python",
   "nbconvert_exporter": "python",
   "pygments_lexer": "ipython3",
   "version": "3.10.11"
  }
 },
 "nbformat": 4,
 "nbformat_minor": 2
}
