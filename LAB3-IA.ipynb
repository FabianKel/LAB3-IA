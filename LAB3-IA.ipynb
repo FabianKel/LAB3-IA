{
 "cells": [
  {
   "cell_type": "markdown",
   "metadata": {},
   "source": [
    "# Laboratorio 3"
   ]
  },
  {
   "cell_type": "markdown",
   "metadata": {},
   "source": [
    "-  [Mónica Salvatierra - 22249](https://github.com/alee2602)\n",
    "- [Paula Barillas - 22764](https://github.com/paulabaal12)\n",
    "- [Derek Arreaga - 22537](https://github.com/FabianKel)"
   ]
  },
  {
   "cell_type": "markdown",
   "metadata": {},
   "source": [
    "#####  LINK DE REPOSITORIO\n",
    "https://github.com/FabianKel/LAB3-IA"
   ]
  },
  {
   "cell_type": "markdown",
   "metadata": {},
   "source": [
    "## Task 1 - Preguntas Teóricas"
   ]
  },
  {
   "cell_type": "markdown",
   "metadata": {},
   "source": [
    "1. Explique la diferencia entre descenso de gradiente, descenso de gradiente por mini batches y descenso de\n",
    "gradiente estocástico. Asegúrese de mencionar las ventajas y desventajas de cada enfoque."
   ]
  },
  {
   "cell_type": "markdown",
   "metadata": {},
   "source": [
    "2. Compare y contraste técnicas de extracción de features (feature extraction) y selección de features (feature\n",
    "selection) en machine learning. De ejemplos de escenarios donde cada técnica sería más apropiada."
   ]
  },
  {
   "cell_type": "markdown",
   "metadata": {},
   "source": [
    "3. Describa la arquitectura y el funcionamiento de un perceptrón de una sola capa (un tipo de red neuronal sin\n",
    "backpropagation). Explique cómo aprende y la forma en la que actualiza sus parámetros."
   ]
  },
  {
   "cell_type": "markdown",
   "metadata": {},
   "source": [
    "## Task 2 - Ejercicios Prácticos"
   ]
  },
  {
   "cell_type": "markdown",
   "metadata": {},
   "source": [
    "### Task 2.1 - Gradiente Descendiente Estocástico"
   ]
  },
  {
   "cell_type": "markdown",
   "metadata": {},
   "source": [
    "Implemente el descenso de gradiente estocástico, el descenso de gradiente y el descenso de gradiente por mini\n",
    "batches para una función polinómica de grado 3. Luego, grafique la función aproximada por cada uno de los métodos\n",
    "solicitados y la distribución real de puntos. Para esto considere que:\n",
    "* El polinomio que debe usar es 2 * x^3 - 3 * x^2 + 5 * x + 3\n",
    "* Considere el uso de ```np.polyval```\n",
    "* Considere el uso de ```np.polyder```\n",
    "* Compare el tiempo de ejecución de cada uno de los métodos solicitados. De esto, mencione cuál método\n",
    "fue más rápido y por qué.\n",
    "* Compare el fitness de cada método solicitado (recuerde hacer una evaluación numérica y no sólo visual). De\n",
    "esto mencione cuál método lo hizo mejor y por qué"
   ]
  },
  {
   "cell_type": "markdown",
   "metadata": {},
   "source": [
    "### **Importar las librerías a utilizar** "
   ]
  },
  {
   "cell_type": "code",
   "execution_count": null,
   "metadata": {},
   "outputs": [],
   "source": [
    "import numpy as np\n",
    "import matplotlib.pyplot as plt\n",
    "import time\n",
    "import random\n",
    "from sklearn.model_selection import train_test_split\n",
    "\n",
    "%matplotlib inline\n"
   ]
  },
  {
   "cell_type": "markdown",
   "metadata": {},
   "source": [
    "### **Definir funciones base**"
   ]
  },
  {
   "cell_type": "code",
   "execution_count": null,
   "metadata": {},
   "outputs": [],
   "source": [
    "\n",
    "# 1. Definir el polinomio y su derivada\n",
    "coefs = [2, -3, 5, 3] \n",
    "poly = np.poly1d(coefs)\n",
    "deriv_poly = np.polyder(poly)"
   ]
  },
  {
   "cell_type": "markdown",
   "metadata": {},
   "source": [
    "### **Generar datos**"
   ]
  },
  {
   "cell_type": "code",
   "execution_count": 165,
   "metadata": {},
   "outputs": [],
   "source": [
    "# 2. Generación de datos\n",
    "np.random.seed(1316)\n",
    "x_data = np.linspace(-2, 2, 150)\n",
    "y_data = poly(x_data) + np.random.normal(0, 2, size=x_data.shape) \n",
    "\n",
    "x_train, x_test, y_train, y_test = train_test_split(x_data, y_data, test_size=0.2, random_state=1316)"
   ]
  },
  {
   "cell_type": "markdown",
   "metadata": {},
   "source": [
    "### Task 2.2 - Feature Selection"
   ]
  },
  {
   "cell_type": "markdown",
   "metadata": {},
   "source": [
    "Tome de nuevo el dataset del laboratorio pasado referente a la clasificación de Partidas de League of Legends.\n",
    "\n",
    "Sobre este aplique al menos 3 técnicas de feature selection distintas, y con el dataset resultante vuelva a ajustar el modelo de Support Vector Machine (de la librería Sklearn).\n",
    "\n",
    "Recuerde que:\n",
    "* Debe definir una métrica de desempeño y justificar el por qué de esta métrica\n",
    "* Mida el performance de su modelo con las tres técnicas de feature selection y compare cada una de ellas. Es decir, debe tener al menos 4 valores a comparar (el obtenido en el laboratorio pasado, y al menos 3 de las técnicas de feature selection)\n",
    "* De las medidas obtenidas, diga qué versión lo hizo mejor y por qué.\n",
    "* Recuerde que para hacer parameter tuning, deben usar las mismas columnas seleccionadas después del\n",
    "feature selection\n",
    "* Recuerde que su variable objetivo es “blueWins”"
   ]
  },
  {
   "cell_type": "markdown",
   "metadata": {},
   "source": [
    "### Task 2.3 - Perceptrón"
   ]
  },
  {
   "cell_type": "markdown",
   "metadata": {},
   "source": [
    "Implemente un perceptrón de una sola capa para realizar una clasificación binaria del dataset de Iris(incluido en ```sklearn.datasets.load_iris```). Visualice la frontera de decisión que fue aprendida por el perceptrón.\n",
    "Recuerde que:\n",
    "* Debe cargar el dataset de Iris desde la librería mencionada\n",
    "* Use solamente dos features, siendo estos sepal length y sepal width\n",
    "* Asegúrese de que su clase Perceptron tenga los métodos de fit y predict\n",
    "* Visualice la frontera de decisión\n",
    "    * El eje Y debería ser sepal width y el eje X debería ser sepal length\n",
    "* Debe definir una métrica de desempeño y justificar el por qué de esta métrica. Con dicha métrica, evalúe el rendimiento de su modelo. Es decir, diga si lo hizo bien o no y el por qué."
   ]
  }
 ],
 "metadata": {
  "kernelspec": {
   "display_name": "Python 3",
   "language": "python",
   "name": "python3"
  },
  "language_info": {
   "codemirror_mode": {
    "name": "ipython",
    "version": 3
   },
   "file_extension": ".py",
   "mimetype": "text/x-python",
   "name": "python",
   "nbconvert_exporter": "python",
   "pygments_lexer": "ipython3",
   "version": "3.10.11"
  }
 },
 "nbformat": 4,
 "nbformat_minor": 2
}
