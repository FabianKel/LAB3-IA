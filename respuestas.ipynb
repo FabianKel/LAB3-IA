{
 "cells": [
  {
   "cell_type": "markdown",
   "metadata": {},
   "source": [
    "### **Importación dataset y librerías**"
   ]
  },
  {
   "cell_type": "code",
   "execution_count": null,
   "metadata": {},
   "outputs": [],
   "source": [
    "# Manipulación y visualización\n",
    "import pandas as pd\n",
    "import numpy as np\n",
    "import matplotlib.pyplot as plt\n",
    "import seaborn as sns\n",
    "from sklearn.svm import SVC\n",
    "\n",
    "# Preprocesamiento\n",
    "from sklearn.preprocessing import StandardScaler\n",
    "from sklearn.model_selection import train_test_split\n",
    "\n",
    "# Métrica de evaluación\n",
    "from sklearn.metrics import accuracy_score\n",
    "\n",
    "# Feature Selection\n",
    "from sklearn.feature_selection import SelectKBest, f_classif, RFE\n",
    "\n",
    "# Modificar máximo de columnas\n",
    "pd.set_option('display.max_columns', None)"
   ]
  },
  {
   "cell_type": "markdown",
   "metadata": {},
   "source": [
    "### **Importación del Dataset**"
   ]
  },
  {
   "cell_type": "code",
   "execution_count": null,
   "metadata": {},
   "outputs": [],
   "source": [
    "data = pd.read_csv('high_diamond_ranked_10min.csv')"
   ]
  },
  {
   "cell_type": "markdown",
   "metadata": {},
   "source": [
    "### **Preprocesamiento del laboratorio anterior**"
   ]
  },
  {
   "cell_type": "code",
   "execution_count": null,
   "metadata": {},
   "outputs": [],
   "source": [
    "# Excluir columnas innecesarias\n",
    "df = data.drop([\"gameId\",\"blueGoldPerMin\",\"redGoldPerMin\"], axis=1)\n",
    "\n",
    "# Separar la variable objetivo\n",
    "np.set_printoptions(suppress=True)\n",
    "Xcolumns = df.iloc[:, 1:].columns.values\n",
    "X = df.iloc[:, 1:].values\n",
    "Y = df.iloc[:, 0].values\n",
    "\n",
    "# Data Split\n",
    "X_train, X_test, Y_train, Y_test = train_test_split(X, Y, test_size=0.2, random_state=48)\n",
    "X_val, X_test, Y_val, Y_test = train_test_split(X_test, Y_test, test_size=0.5, random_state=48)\n",
    "\n",
    "# Escalado de Variables\n",
    "X_train_df = pd.DataFrame(X_train, columns=Xcolumns)\n",
    "X_test_df = pd.DataFrame(X_test, columns=Xcolumns)\n",
    "X_val_df = pd.DataFrame(X_val, columns=Xcolumns)\n",
    "\n",
    "sc_X = StandardScaler()\n",
    "X_train_df = pd.DataFrame(sc_X.fit_transform(X_train_df), columns=Xcolumns)\n",
    "X_test_df = pd.DataFrame(sc_X.transform(X_test_df), columns=Xcolumns)\n",
    "X_val_df = pd.DataFrame(sc_X.transform(X_val_df), columns=Xcolumns)"
   ]
  },
  {
   "cell_type": "markdown",
   "metadata": {},
   "source": [
    "#### Técnicas de Feature Selection:"
   ]
  },
  {
   "cell_type": "code",
   "execution_count": null,
   "metadata": {},
   "outputs": [],
   "source": [
    "# Técnica 1: Correlación de Pearson\n",
    "correlaciones = X_train_df.corrwith(pd.Series(Y_train)).abs().sort_values(ascending=False)\n",
    "features_pearson = correlaciones.head(10).index.tolist()  # Top 10\n",
    "\n",
    "# Técnica 2: ANOVA F-value\n",
    "selector_anova = SelectKBest(score_func=f_classif, k=10)\n",
    "X_train_anova = selector_anova.fit_transform(X_train_df, Y_train)\n",
    "features_anova = X_train_df.columns[selector_anova.get_support()].tolist()\n",
    "\n",
    "# Técnica 3: RFE con SVM\n",
    "svm_rfe = SVC(kernel='linear', C=1)\n",
    "selector_rfe = RFE(svm_rfe, n_features_to_select=10)\n",
    "selector_rfe.fit(X_train_df, Y_train)\n",
    "features_rfe = X_train_df.columns[selector_rfe.support_].tolist()"
   ]
  },
  {
   "cell_type": "code",
   "execution_count": null,
   "metadata": {},
   "outputs": [
    {
     "name": "stdout",
     "output_type": "stream",
     "text": [
      "Features a evaluar:\n",
      " ['redGoldDiff', 'blueGoldDiff', 'redExperienceDiff', 'blueExperienceDiff', 'blueTotalGold', 'redTotalGold', 'blueTotalExperience', 'redTotalExperience', 'blueAvgLevel', 'redAvgLevel']\n",
      "0.7236842105263158\n",
      "Features a evaluar:\n",
      " ['blueTotalGold', 'blueAvgLevel', 'blueTotalExperience', 'blueGoldDiff', 'blueExperienceDiff', 'redTotalGold', 'redAvgLevel', 'redTotalExperience', 'redGoldDiff', 'redExperienceDiff']\n",
      "0.7236842105263158\n",
      "Features a evaluar:\n",
      " ['blueDragons', 'blueTotalGold', 'blueTotalExperience', 'blueGoldDiff', 'blueExperienceDiff', 'redDragons', 'redTotalGold', 'redTotalExperience', 'redGoldDiff', 'redExperienceDiff']\n",
      "0.7246963562753036\n",
      "------------ Resumen Final ------------\n",
      "Accuracy Original:\n",
      " 0.7206\n",
      "Accuracy Pearson:\n",
      " 0.7236842105263158\n",
      "Accuracy Anova:\n",
      " 0.7236842105263158\n",
      "Accuracy RFE:\n",
      " 0.7246963562753036\n"
     ]
    }
   ],
   "source": [
    "# Función para entrenar y evaluar\n",
    "def evaluar_modelo(features):\n",
    "    print(\"Features a evaluar:\\n\", features)\n",
    "    X_train_sel = X_train_df[features]\n",
    "    X_test_sel = X_test_df[features]\n",
    "    \n",
    "    model = SVC(kernel='linear', C=1)\n",
    "    model.fit(X_train_sel, Y_train)\n",
    "    \n",
    "    y_pred = model.predict(X_test_sel)\n",
    "    acc = accuracy_score(Y_test, y_pred)\n",
    "    print(acc)\n",
    "    return acc\n",
    "\n",
    "accuracy_original = 0.7206  # Obtenido en el laboratorio anterior\n",
    "\n",
    "# Accuracy con cada técnica\n",
    "accuracy_pearson = evaluar_modelo(features_pearson)\n",
    "accuracy_anova = evaluar_modelo(features_anova)\n",
    "accuracy_rfe = evaluar_modelo(features_rfe)\n",
    "\n",
    "print(\"------------ Resumen Final ------------\")\n",
    "print(\"Accuracy Original:\\n\",accuracy_original)\n",
    "print(\"Accuracy Pearson:\\n\",accuracy_pearson)\n",
    "print(\"Accuracy Anova:\\n\",accuracy_anova)\n",
    "print(\"Accuracy RFE:\\n\",accuracy_rfe)"
   ]
  },
  {
   "cell_type": "markdown",
   "metadata": {},
   "source": [
    "#### **Análisis de Resultados**\n",
    "A continuación se presentaran las diferencias de las técnicas implementadas:\n",
    "\n",
    "<center>\n",
    "\n",
    "|    Técnica    |    Accuracy   | Num. Features |     Observación     |\n",
    "| ------------- | ------------- |-------------- | ------------------- |\n",
    "| **Original**  |    72.06%     |       37      | Se utilizaron todas las features |\n",
    "| **Pearson**   |    72.37%     |       10      | Incluye Features de diferencia de puntuaciones en la partida |\n",
    "| **ANOVA**     |    72.37%     |       10      | Mismas Features que **Pearson**  |\n",
    "| **RFE**       |    72.47%     |       10      | Incluye Features de los objetivos tomados por los equipos|\n",
    "\n",
    "</center>\n",
    "\n",
    "* RFE utiliza el propio SVM para evaluar la importancia de las características, capturando iteraciones no lineales entre variables. Mientras que Pearson y ANOVA solo miden las relaciones individuales con ```blueWins```\n",
    "* Como se menciona en la tabla, ```RFE``` incluyó las features que describen las ventajas obtenidas durante el juego, mientras que ```Pearson``` y ```ANOVA``` se enfocaron más en describir las diferencias de estadísticas de economía o puntos de experiencia en el juego."
   ]
  },
  {
   "cell_type": "markdown",
   "metadata": {},
   "source": [
    "#### Comparación directa\n",
    "* Pearson vs ANOVA:\n",
    "    * Ambas técnicas dieron el mismo accuracy (72.37%), debido a que seleccionaron las mismas features. Esto sugiere que las diferencias de oro y experiencia entre los equipos son críticas para predecir qué equipo gana, pero al mismo tiempo demuestra que no aportan información nueva al incluirse todas juntas.\n",
    "    * RFE vs Original:\n",
    "        * El modelo con RFE superó al original por **0.41%** utilizando **27** features menos. Lo cuál demuestra que la mayoría de las 37 caracterísitcas originales eran redundantes o irrelevantes."
   ]
  },
  {
   "cell_type": "markdown",
   "metadata": {},
   "source": [
    "### **Conclusión Final**\n",
    "En este caso es recomendable utilizar el método de **RFE** ya que nos brindó un mejor accuracy y mejor eficiencia comparado al modelo original.\n",
    "Además las features seleccionadas demuestran la importancia de ciertos objetivos en el juego que le brindan ciertas ventajas al equipo que los alcanza."
   ]
  }
 ],
 "metadata": {
  "language_info": {
   "name": "python"
  }
 },
 "nbformat": 4,
 "nbformat_minor": 2
}
